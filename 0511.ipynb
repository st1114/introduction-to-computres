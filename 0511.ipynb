{
  "nbformat": 4,
  "nbformat_minor": 0,
  "metadata": {
    "colab": {
      "name": "0511.ipynb",
      "provenance": [],
      "authorship_tag": "ABX9TyMdkaM/r/I7HE0X+L7lHp/i",
      "include_colab_link": true
    },
    "kernelspec": {
      "name": "python3",
      "display_name": "Python 3"
    },
    "language_info": {
      "name": "python"
    }
  },
  "cells": [
    {
      "cell_type": "markdown",
      "metadata": {
        "id": "view-in-github",
        "colab_type": "text"
      },
      "source": [
        "<a href=\"https://colab.research.google.com/github/st1114/introduction-to-computres/blob/main/0511.ipynb\" target=\"_parent\"><img src=\"https://colab.research.google.com/assets/colab-badge.svg\" alt=\"Open In Colab\"/></a>"
      ]
    },
    {
      "cell_type": "code",
      "execution_count": 1,
      "metadata": {
        "colab": {
          "base_uri": "https://localhost:8080/"
        },
        "id": "deNvV2PoU3Tt",
        "outputId": "b55a763a-f40a-43b2-d9f1-bef663ec1ab7"
      },
      "outputs": [
        {
          "output_type": "stream",
          "name": "stdout",
          "text": [
            "test\n"
          ]
        }
      ],
      "source": [
        "print(\"test\")"
      ]
    },
    {
      "cell_type": "code",
      "source": [
        "temp = float(input(\"請輸入你的體溫\"))\n",
        "if temp >= 37.5:\n",
        "  print(\"體溫過高！ \")\n",
        "elif temp >= 37 and temp < 37.4:\n",
        "  print(\"體溫略高！ \")\n",
        "elif temp >= 34 and temp < 36.9:\n",
        "  print(\"體溫正常！ \")\n",
        "else:\n",
        "  print(\"體溫異常，請重新量測！ \")"
      ],
      "metadata": {
        "colab": {
          "base_uri": "https://localhost:8080/"
        },
        "id": "pz4GMqcNVf5H",
        "outputId": "ad9fa6bf-b7be-4216-d231-8f1a18e90a61"
      },
      "execution_count": 3,
      "outputs": [
        {
          "output_type": "stream",
          "name": "stdout",
          "text": [
            "請輸入你的體溫37.5\n",
            "體溫過高！ \n"
          ]
        }
      ]
    },
    {
      "cell_type": "code",
      "source": [
        "money = int(input(\"請輸入購物金額：\"))\n",
        "if(money >= 10000):\n",
        "  if(money >= 100000):\n",
        "    print(\"八折\",money * 0.8, end = \" 元\\n\")\n",
        "  elif(money >= 50000):\n",
        "    print(\"八五折\",money * 0.85, end = \" 元\\n\")\n",
        "  elif(money >= 30000):\n",
        "    print(\"九折\",money * 0.9, end = \" 元\\n\")\n",
        "  else:\n",
        "    print(\"九五折\",money * 0.95, end = \" 元\\n\")\n",
        "else:\n",
        "  print(\"沒打折\",money, end = \" 元\\n\")"
      ],
      "metadata": {
        "colab": {
          "base_uri": "https://localhost:8080/"
        },
        "id": "iI-9C0GPYKc3",
        "outputId": "bce7aa8d-2648-4150-c546-cbad7b963767"
      },
      "execution_count": 4,
      "outputs": [
        {
          "output_type": "stream",
          "name": "stdout",
          "text": [
            "請輸入購物金額：50000\n",
            "八五折 42500.0 元\n"
          ]
        }
      ]
    },
    {
      "cell_type": "code",
      "source": [
        "score = float(input(\"請輸入成績\"))\n",
        "if score >= 90:\n",
        "  print(\"Ａ \")\n",
        "elif score >= 80 and score < 89:\n",
        "  print(\"B \")\n",
        "elif score >= 70 and score < 79:\n",
        "  print(\"C \")\n",
        "elif score >= 60 and score < 69:\n",
        "  print(\"D \")\n",
        "else:\n",
        "  print(\"E \")"
      ],
      "metadata": {
        "colab": {
          "base_uri": "https://localhost:8080/"
        },
        "id": "U1cmA2imbFEV",
        "outputId": "87fa1b3b-5e51-4fe2-b4a0-37a59171e5b6"
      },
      "execution_count": 7,
      "outputs": [
        {
          "output_type": "stream",
          "name": "stdout",
          "text": [
            "請輸入成績50\n",
            "E \n"
          ]
        }
      ]
    },
    {
      "cell_type": "code",
      "source": [
        "month = float(input(\"輸入月份\"))\n",
        "if month >= 3 and month <= 5:\n",
        "  print(month,\"月是春天！ \")\n",
        "elif month >= 6 and month <= 8:\n",
        "  print(month,\"月是夏天！ \")\n",
        "elif month >= 9 and temp <= 11:\n",
        "  print(month,\"月是秋天！ \")\n",
        "elif month >= 1 and month <=2:\n",
        "  print(month,\"月是冬天！ \")\n",
        "else:\n",
        "  print(\"月份不在範圍內！ \")"
      ],
      "metadata": {
        "colab": {
          "base_uri": "https://localhost:8080/"
        },
        "id": "zp5aL629coET",
        "outputId": "a40de167-17fb-4883-be2f-59c981060b1a"
      },
      "execution_count": 17,
      "outputs": [
        {
          "output_type": "stream",
          "name": "stdout",
          "text": [
            "輸入月份5\n",
            "5.0 月是春天！ \n"
          ]
        }
      ]
    },
    {
      "cell_type": "code",
      "source": [
        "money = int(input(\"請輸入今年收入淨額：\"))\n",
        "if(money >= 300000):\n",
        "  if(money >= 2000000):\n",
        "    print(\"付稅金額:\",money * 0.3, end = \" 元\\n\")\n",
        "  elif(money >= 1000000):\n",
        "    print(\"付稅金額:\",money * 0.21, end = \" 元\\n\")\n",
        "  elif(money >= 600000):\n",
        "    print(\"付稅金額:\",money * 0.13, end = \" 元\\n\")\n",
        "  elif(money >= 300000):\n",
        "    print(\"付稅金額:\",money * 0.06, end = \" 元\\n\")\n",
        "else:\n",
        "  print(\"付稅金額:\",money * 0, end = \" 元\\n\")"
      ],
      "metadata": {
        "colab": {
          "base_uri": "https://localhost:8080/"
        },
        "id": "7Jojhdn4hPNe",
        "outputId": "cf7b63a9-8b58-4448-a68e-935eb4367638"
      },
      "execution_count": 26,
      "outputs": [
        {
          "output_type": "stream",
          "name": "stdout",
          "text": [
            "請輸入今年收入淨額：2000000\n",
            "付稅金額: 600000.0 元\n"
          ]
        }
      ]
    }
  ]
}